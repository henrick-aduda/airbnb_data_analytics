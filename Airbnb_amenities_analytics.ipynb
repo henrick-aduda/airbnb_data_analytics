{
 "cells": [
  {
   "cell_type": "markdown",
   "id": "38aa18c6",
   "metadata": {},
   "source": [
    "# Identifying most common amenities that give Airbnb hosts a competitive advantage over other hosts in Guateng & Cape Town, South Africa\n",
    "## Problem description \n",
    "In a statement,\n",
    ">Given airbnb review data can we the identify common amenities that give airbnb hosts a competitive advantage over other hosts based on client review ratings and review comments.\n",
    "\n",
    "## Motivation for tackling problem\n",
    "Airbnbs took a massive hit from quarantine and lockdowns enforced globally in most countries in 2020. Airbnb’s revenues decreased by 48.6%, from USD 35 billion to USD 18 billion, from January to May 2020 **Reference:[ipropertymanagement.com](https://ipropertymanagement.com/research/airbnb-statistics)**. Airbnb hosts may have lost up to 54% of their overall revenue due to the novel coronavirus**Reference:[ipropertymanagement.com](https://ipropertymanagement.com/research/airbnb-statistics)**\n",
    "\n",
    "According to Airbnb, hosts in rural areas of the U.S. earned over USD 200 million in June 2020, an increase of more than 25% from the same period a year ago. This is an indicator that there was an opportunity to increase profit margins even with the challenges posed by the pandemic period. Given this information, it seems there is an opportunity to increase revenue for airbnb hosts despite the pandemic challenges. This project aims at identifying the most common amenities that would give airbnb hosts a competitive advantage. \n",
    "\n",
    "My main motivation was to find opportunities for growth for airbnb hosts, to give them hope and a means/approach to improve their business despite the tough financial conditions the world is facing due to the COVID-19 pandemic. \n",
    "\n",
    "## Data source description \n",
    "The original dataset came from Inside Airbnb web database.\n",
    "Inside Airbnb is an independent, non-commercial set of tools and data that allows you to explore how Airbnb is really being used in cities around the world. By analyzing publicly available information about a city's Airbnb's listings, Inside Airbnb provides filters and key metrics so you can see how Airbnb is being used to compete with the residential housing market.\n",
    "\n",
    "For this project, I downloaded the dataset using the following links: \n",
    "\n",
    "1. Cape town dataset link: http://data.insideairbnb.com/south-africa/wc/cape-town/2021-03-25/data/listings.csv.gz\n",
    "2. Gauteng dataset link: http://data.insideairbnb.com/south-africa/gt/gauteng/2021-03-29/data/listings.csv.gz\n",
    "\n",
    "## Who is the project useful for?\n",
    "This project is useful for current and potential airbnb hosts. \n",
    "\n",
    "## How will it help them? \n",
    "It will help airbnb hosts identify amenities that give them an edge in the market, this will provide an opportunity for the hosts to improve their facilities or add more facilities that are favourable to clients in a particular region/area. In the long run, airbnb hosts will get more clients leading to increased revenues.\n",
    "\n",
    "## Why should others find it interesting?\n",
    "This project utilizes data science tools and visualizations to provide information to airbnb hosts. It is a game changer for potential airbnb hosts and current airbnb hosts since they are able to make informed data-driven decisions for their facilities.\n",
    "\n",
    "## Analysis \n",
    "1. To identify the most common amenities affecting the review ratings - correlation analysis between amenities and review ratings \n",
    "\n",
    "2. To build a sentiment analysis to identify positive, negative and neutral comments. - utilized monkeylearn.com to perform sentiment analysis for 200 entries out of 305085 entries\n",
    "\n",
    "3. To identify the most common amenities affecting review comments.- not sure yet on how to do this analysis.\n",
    "\n",
    "### Objective 2: Sentiment analysis"
   ]
  },
  {
   "cell_type": "code",
   "execution_count": 14,
   "id": "46fdb29d",
   "metadata": {},
   "outputs": [
    {
     "data": {
      "text/html": [
       "<div>\n",
       "<style scoped>\n",
       "    .dataframe tbody tr th:only-of-type {\n",
       "        vertical-align: middle;\n",
       "    }\n",
       "\n",
       "    .dataframe tbody tr th {\n",
       "        vertical-align: top;\n",
       "    }\n",
       "\n",
       "    .dataframe thead th {\n",
       "        text-align: right;\n",
       "    }\n",
       "</style>\n",
       "<table border=\"1\" class=\"dataframe\">\n",
       "  <thead>\n",
       "    <tr style=\"text-align: right;\">\n",
       "      <th></th>\n",
       "      <th>listing_id</th>\n",
       "      <th>id</th>\n",
       "      <th>date</th>\n",
       "      <th>reviewer_id</th>\n",
       "      <th>reviewer_name</th>\n",
       "      <th>comments</th>\n",
       "      <th>Classification</th>\n",
       "      <th>Confidence</th>\n",
       "    </tr>\n",
       "  </thead>\n",
       "  <tbody>\n",
       "    <tr>\n",
       "      <th>0</th>\n",
       "      <td>3191.0</td>\n",
       "      <td>9128602.0</td>\n",
       "      <td>2013-12-09</td>\n",
       "      <td>8170322.0</td>\n",
       "      <td>Anita</td>\n",
       "      <td>Das Cottage liegt ruhig und sicher.  Wir haben...</td>\n",
       "      <td>Positive</td>\n",
       "      <td>0.979</td>\n",
       "    </tr>\n",
       "    <tr>\n",
       "      <th>1</th>\n",
       "      <td>3191.0</td>\n",
       "      <td>9924130.0</td>\n",
       "      <td>2014-01-20</td>\n",
       "      <td>4039279.0</td>\n",
       "      <td>Zacki</td>\n",
       "      <td>This cottage was a great base from which to ex...</td>\n",
       "      <td>Positive</td>\n",
       "      <td>0.999</td>\n",
       "    </tr>\n",
       "    <tr>\n",
       "      <th>2</th>\n",
       "      <td>3191.0</td>\n",
       "      <td>16659537.0</td>\n",
       "      <td>2014-07-31</td>\n",
       "      <td>9729939.0</td>\n",
       "      <td>Doug</td>\n",
       "      <td>I had a great stay.  All my needs were well ex...</td>\n",
       "      <td>Positive</td>\n",
       "      <td>0.990</td>\n",
       "    </tr>\n",
       "    <tr>\n",
       "      <th>3</th>\n",
       "      <td>3191.0</td>\n",
       "      <td>23247470.0</td>\n",
       "      <td>2014-11-26</td>\n",
       "      <td>9681619.0</td>\n",
       "      <td>Christopher</td>\n",
       "      <td>Excellent host. She provided everything we cou...</td>\n",
       "      <td>Positive</td>\n",
       "      <td>1.000</td>\n",
       "    </tr>\n",
       "    <tr>\n",
       "      <th>4</th>\n",
       "      <td>3191.0</td>\n",
       "      <td>30757722.0</td>\n",
       "      <td>2015-04-27</td>\n",
       "      <td>19846063.0</td>\n",
       "      <td>Carla</td>\n",
       "      <td>We kregen een verwarmend welkom in het huisje ...</td>\n",
       "      <td>Neutral</td>\n",
       "      <td>0.506</td>\n",
       "    </tr>\n",
       "  </tbody>\n",
       "</table>\n",
       "</div>"
      ],
      "text/plain": [
       "   listing_id          id        date  reviewer_id reviewer_name  \\\n",
       "0      3191.0   9128602.0  2013-12-09    8170322.0         Anita   \n",
       "1      3191.0   9924130.0  2014-01-20    4039279.0         Zacki   \n",
       "2      3191.0  16659537.0  2014-07-31    9729939.0          Doug   \n",
       "3      3191.0  23247470.0  2014-11-26    9681619.0   Christopher   \n",
       "4      3191.0  30757722.0  2015-04-27   19846063.0         Carla   \n",
       "\n",
       "                                            comments Classification  \\\n",
       "0  Das Cottage liegt ruhig und sicher.  Wir haben...       Positive   \n",
       "1  This cottage was a great base from which to ex...       Positive   \n",
       "2  I had a great stay.  All my needs were well ex...       Positive   \n",
       "3  Excellent host. She provided everything we cou...       Positive   \n",
       "4  We kregen een verwarmend welkom in het huisje ...        Neutral   \n",
       "\n",
       "   Confidence  \n",
       "0       0.979  \n",
       "1       0.999  \n",
       "2       0.990  \n",
       "3       1.000  \n",
       "4       0.506  "
      ]
     },
     "execution_count": 14,
     "metadata": {},
     "output_type": "execute_result"
    }
   ],
   "source": [
    "#Getting the data\n",
    "import pandas as pd\n",
    "listings_cape_reviews = pd.read_csv(\"processed_batch.csv\", low_memory=False)\n",
    "listings_cape_reviews.head()"
   ]
  },
  {
   "cell_type": "code",
   "execution_count": 49,
   "id": "051301f1",
   "metadata": {},
   "outputs": [
    {
     "name": "stdout",
     "output_type": "stream",
     "text": [
      "Collecting package metadata (current_repodata.json): done\n",
      "Solving environment: done\n",
      "\n",
      "## Package Plan ##\n",
      "\n",
      "  environment location: /Users/henrickaduda/opt/miniconda3/envs/env_from_file\n",
      "\n",
      "  added / updated specs:\n",
      "    - seaborn\n",
      "\n",
      "\n",
      "The following NEW packages will be INSTALLED:\n",
      "\n",
      "  seaborn            pkgs/main/noarch::seaborn-0.11.1-pyhd3eb1b0_0\n",
      "\n",
      "The following packages will be UPDATED:\n",
      "\n",
      "  ca-certificates                      2021.4.13-hecd8cb5_1 --> 2021.7.5-hecd8cb5_1\n",
      "  certifi                          2020.12.5-py39hecd8cb5_0 --> 2021.5.30-py39hecd8cb5_0\n",
      "\n",
      "\n",
      "Preparing transaction: done\n",
      "Verifying transaction: done\n",
      "Executing transaction: done\n",
      "\n",
      "Note: you may need to restart the kernel to use updated packages.\n"
     ]
    }
   ],
   "source": [
    "conda install seaborn"
   ]
  },
  {
   "cell_type": "code",
   "execution_count": 66,
   "id": "cc32055a",
   "metadata": {},
   "outputs": [
    {
     "data": {
      "image/png": "[encoded data removed]",
      "text/plain": [
       "<Figure size 720x360 with 1 Axes>"
      ]
     },
     "metadata": {
      "needs_background": "light"
     },
     "output_type": "display_data"
    }
   ],
   "source": [
    "#Plotting a bar graph to show positive, negative and neutral reviews as per airbnb listings\n",
    "#import relevant library\n",
    "import seaborn as sns\n",
    "classification_count = listings_cape_reviews['Classification'].value_counts()\n",
    "plt.figure(figsize=(10,5))\n",
    "sns.barplot(x= classification_count.index, y = classification_count.values, alpha=0.7)\n",
    "# Plotting additional information\n",
    "plt.title('Airbnb client review sentiment analysis')\n",
    "plt.ylabel('Number of Occurrences', fontsize=12)\n",
    "plt.xlabel('review classification', fontsize=12)\n",
    "plt.savefig('sentiment_analysis_reviews.png')\n",
    "plt.show()"
   ]
  }
 ],
 "metadata": {
  "kernelspec": {
   "display_name": "Python 3",
   "language": "python",
   "name": "python3"
  },
  "language_info": {
   "codemirror_mode": {
    "name": "ipython",
    "version": 3
   },
   "file_extension": ".py",
   "mimetype": "text/x-python",
   "name": "python",
   "nbconvert_exporter": "python",
   "pygments_lexer": "ipython3",
   "version": "3.9.5"
  }
 },
 "nbformat": 4,
 "nbformat_minor": 5
}
